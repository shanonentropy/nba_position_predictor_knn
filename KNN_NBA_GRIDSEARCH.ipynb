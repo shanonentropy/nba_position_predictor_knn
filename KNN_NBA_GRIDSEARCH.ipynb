{
 "cells": [
  {
   "cell_type": "markdown",
   "id": "cc6e10ea",
   "metadata": {},
   "source": [
    "Challenge:  Build a \"comparator\" for NBA players. That is build a classifier that takes in a players stats and position allows the users to find a historical comparison. The classifier should allow you to take in either predict the best position for the player given stats, or given cumlative stats and or position predict the historical comparison.  Finally build a model that takes in year on year stats and makes a projection of future stats 3 to 5 years.\n",
    "\n",
    "Challenge #1 build a KNN classifier that given stats predicts the position of the player"
   ]
  },
  {
   "cell_type": "code",
   "execution_count": 553,
   "id": "68b41027",
   "metadata": {},
   "outputs": [],
   "source": [
    "import numpy as np\n",
    "import pandas as pd\n",
    "import matplotlib.pyplot as plt\n",
    "import seaborn as sns\n",
    "from sklearn.model_selection import train_test_split\n",
    "from sklearn.model_selection import GridSearchCV, RandomizedSearchCV\n",
    "from sklearn.neighbors import KNeighborsClassifier\n",
    "from sklearn.preprocessing import StandardScaler\n",
    "from sklearn.pipeline import make_pipeline\n",
    "from sklearn import metrics"
   ]
  },
  {
   "cell_type": "code",
   "execution_count": 554,
   "id": "984fb295",
   "metadata": {},
   "outputs": [],
   "source": [
    "nba_path = '../../dataset/NBA_players_2015.csv'\n",
    "nba = pd.read_csv(nba_path)"
   ]
  },
  {
   "cell_type": "code",
   "execution_count": 555,
   "id": "1e5148b0",
   "metadata": {},
   "outputs": [
    {
     "data": {
      "text/plain": [
       "Index(['Unnamed: 0', 'season_end', 'player', 'pos', 'age', 'bref_team_id', 'g',\n",
       "       'gs', 'mp', 'fg', 'fga', 'fg_', 'x3p', 'x3pa', 'x3p_', 'x2p', 'x2pa',\n",
       "       'x2p_', 'ft', 'fta', 'ft_', 'orb', 'drb', 'trb', 'ast', 'stl', 'blk',\n",
       "       'tov', 'pf', 'pts', 'G', 'MP', 'PER', 'TS%', '3PAr', 'FTr', 'TRB%',\n",
       "       'AST%', 'STL%', 'BLK%', 'TOV%', 'USG%', 'OWS', 'DWS', 'WS', 'WS/48',\n",
       "       'OBPM', 'DBPM', 'BPM', 'VORP'],\n",
       "      dtype='object')"
      ]
     },
     "execution_count": 555,
     "metadata": {},
     "output_type": "execute_result"
    }
   ],
   "source": [
    "nba.columns"
   ]
  },
  {
   "cell_type": "code",
   "execution_count": 556,
   "id": "741a46bf",
   "metadata": {},
   "outputs": [
    {
     "data": {
      "text/html": [
       "<div>\n",
       "<style scoped>\n",
       "    .dataframe tbody tr th:only-of-type {\n",
       "        vertical-align: middle;\n",
       "    }\n",
       "\n",
       "    .dataframe tbody tr th {\n",
       "        vertical-align: top;\n",
       "    }\n",
       "\n",
       "    .dataframe thead th {\n",
       "        text-align: right;\n",
       "    }\n",
       "</style>\n",
       "<table border=\"1\" class=\"dataframe\">\n",
       "  <thead>\n",
       "    <tr style=\"text-align: right;\">\n",
       "      <th></th>\n",
       "      <th>Unnamed: 0</th>\n",
       "      <th>season_end</th>\n",
       "      <th>player</th>\n",
       "      <th>pos</th>\n",
       "      <th>age</th>\n",
       "      <th>bref_team_id</th>\n",
       "      <th>g</th>\n",
       "      <th>gs</th>\n",
       "      <th>mp</th>\n",
       "      <th>fg</th>\n",
       "      <th>...</th>\n",
       "      <th>TOV%</th>\n",
       "      <th>USG%</th>\n",
       "      <th>OWS</th>\n",
       "      <th>DWS</th>\n",
       "      <th>WS</th>\n",
       "      <th>WS/48</th>\n",
       "      <th>OBPM</th>\n",
       "      <th>DBPM</th>\n",
       "      <th>BPM</th>\n",
       "      <th>VORP</th>\n",
       "    </tr>\n",
       "  </thead>\n",
       "  <tbody>\n",
       "    <tr>\n",
       "      <th>0</th>\n",
       "      <td>0</td>\n",
       "      <td>2015</td>\n",
       "      <td>Quincy Acy</td>\n",
       "      <td>F</td>\n",
       "      <td>24</td>\n",
       "      <td>NYK</td>\n",
       "      <td>52</td>\n",
       "      <td>21</td>\n",
       "      <td>19.2</td>\n",
       "      <td>2.2</td>\n",
       "      <td>...</td>\n",
       "      <td>15.1</td>\n",
       "      <td>14.7</td>\n",
       "      <td>0.6</td>\n",
       "      <td>0.5</td>\n",
       "      <td>1.0</td>\n",
       "      <td>0.050</td>\n",
       "      <td>-2.6</td>\n",
       "      <td>-0.7</td>\n",
       "      <td>-3.4</td>\n",
       "      <td>-0.3</td>\n",
       "    </tr>\n",
       "    <tr>\n",
       "      <th>1</th>\n",
       "      <td>1</td>\n",
       "      <td>2015</td>\n",
       "      <td>Jordan Adams</td>\n",
       "      <td>G</td>\n",
       "      <td>20</td>\n",
       "      <td>MEM</td>\n",
       "      <td>18</td>\n",
       "      <td>0</td>\n",
       "      <td>7.3</td>\n",
       "      <td>1.0</td>\n",
       "      <td>...</td>\n",
       "      <td>15.9</td>\n",
       "      <td>17.7</td>\n",
       "      <td>0.0</td>\n",
       "      <td>0.2</td>\n",
       "      <td>0.2</td>\n",
       "      <td>0.076</td>\n",
       "      <td>-2.3</td>\n",
       "      <td>1.8</td>\n",
       "      <td>-0.5</td>\n",
       "      <td>0.0</td>\n",
       "    </tr>\n",
       "    <tr>\n",
       "      <th>2</th>\n",
       "      <td>2</td>\n",
       "      <td>2015</td>\n",
       "      <td>Steven Adams</td>\n",
       "      <td>C</td>\n",
       "      <td>21</td>\n",
       "      <td>OKC</td>\n",
       "      <td>51</td>\n",
       "      <td>50</td>\n",
       "      <td>24.2</td>\n",
       "      <td>3.0</td>\n",
       "      <td>...</td>\n",
       "      <td>19.2</td>\n",
       "      <td>14.8</td>\n",
       "      <td>1.0</td>\n",
       "      <td>1.8</td>\n",
       "      <td>2.8</td>\n",
       "      <td>0.109</td>\n",
       "      <td>-2.0</td>\n",
       "      <td>2.0</td>\n",
       "      <td>-0.1</td>\n",
       "      <td>0.6</td>\n",
       "    </tr>\n",
       "    <tr>\n",
       "      <th>3</th>\n",
       "      <td>3</td>\n",
       "      <td>2015</td>\n",
       "      <td>Jeff Adrien</td>\n",
       "      <td>F</td>\n",
       "      <td>28</td>\n",
       "      <td>MIN</td>\n",
       "      <td>17</td>\n",
       "      <td>0</td>\n",
       "      <td>12.6</td>\n",
       "      <td>1.1</td>\n",
       "      <td>...</td>\n",
       "      <td>12.9</td>\n",
       "      <td>14.1</td>\n",
       "      <td>0.2</td>\n",
       "      <td>0.2</td>\n",
       "      <td>0.4</td>\n",
       "      <td>0.093</td>\n",
       "      <td>-2.6</td>\n",
       "      <td>0.8</td>\n",
       "      <td>-1.8</td>\n",
       "      <td>0.0</td>\n",
       "    </tr>\n",
       "    <tr>\n",
       "      <th>4</th>\n",
       "      <td>4</td>\n",
       "      <td>2015</td>\n",
       "      <td>Arron Afflalo</td>\n",
       "      <td>G</td>\n",
       "      <td>29</td>\n",
       "      <td>TOT</td>\n",
       "      <td>60</td>\n",
       "      <td>54</td>\n",
       "      <td>32.5</td>\n",
       "      <td>5.0</td>\n",
       "      <td>...</td>\n",
       "      <td>10.9</td>\n",
       "      <td>19.6</td>\n",
       "      <td>1.4</td>\n",
       "      <td>0.7</td>\n",
       "      <td>2.1</td>\n",
       "      <td>0.051</td>\n",
       "      <td>-0.2</td>\n",
       "      <td>-1.4</td>\n",
       "      <td>-1.6</td>\n",
       "      <td>0.2</td>\n",
       "    </tr>\n",
       "  </tbody>\n",
       "</table>\n",
       "<p>5 rows × 50 columns</p>\n",
       "</div>"
      ],
      "text/plain": [
       "   Unnamed: 0  season_end         player pos  age bref_team_id   g  gs    mp  \\\n",
       "0           0        2015     Quincy Acy   F   24          NYK  52  21  19.2   \n",
       "1           1        2015   Jordan Adams   G   20          MEM  18   0   7.3   \n",
       "2           2        2015   Steven Adams   C   21          OKC  51  50  24.2   \n",
       "3           3        2015    Jeff Adrien   F   28          MIN  17   0  12.6   \n",
       "4           4        2015  Arron Afflalo   G   29          TOT  60  54  32.5   \n",
       "\n",
       "    fg  ...  TOV%  USG%  OWS  DWS   WS  WS/48  OBPM  DBPM  BPM  VORP  \n",
       "0  2.2  ...  15.1  14.7  0.6  0.5  1.0  0.050  -2.6  -0.7 -3.4  -0.3  \n",
       "1  1.0  ...  15.9  17.7  0.0  0.2  0.2  0.076  -2.3   1.8 -0.5   0.0  \n",
       "2  3.0  ...  19.2  14.8  1.0  1.8  2.8  0.109  -2.0   2.0 -0.1   0.6  \n",
       "3  1.1  ...  12.9  14.1  0.2  0.2  0.4  0.093  -2.6   0.8 -1.8   0.0  \n",
       "4  5.0  ...  10.9  19.6  1.4  0.7  2.1  0.051  -0.2  -1.4 -1.6   0.2  \n",
       "\n",
       "[5 rows x 50 columns]"
      ]
     },
     "execution_count": 556,
     "metadata": {},
     "output_type": "execute_result"
    }
   ],
   "source": [
    "nba.head()"
   ]
  },
  {
   "cell_type": "code",
   "execution_count": 557,
   "id": "db44cf29",
   "metadata": {},
   "outputs": [
    {
     "data": {
      "text/html": [
       "<div>\n",
       "<style scoped>\n",
       "    .dataframe tbody tr th:only-of-type {\n",
       "        vertical-align: middle;\n",
       "    }\n",
       "\n",
       "    .dataframe tbody tr th {\n",
       "        vertical-align: top;\n",
       "    }\n",
       "\n",
       "    .dataframe thead th {\n",
       "        text-align: right;\n",
       "    }\n",
       "</style>\n",
       "<table border=\"1\" class=\"dataframe\">\n",
       "  <thead>\n",
       "    <tr style=\"text-align: right;\">\n",
       "      <th></th>\n",
       "      <th>Unnamed: 0</th>\n",
       "      <th>season_end</th>\n",
       "      <th>player</th>\n",
       "      <th>pos</th>\n",
       "      <th>age</th>\n",
       "      <th>bref_team_id</th>\n",
       "      <th>g</th>\n",
       "      <th>gs</th>\n",
       "      <th>mp</th>\n",
       "      <th>fg</th>\n",
       "      <th>...</th>\n",
       "      <th>TOV%</th>\n",
       "      <th>USG%</th>\n",
       "      <th>OWS</th>\n",
       "      <th>DWS</th>\n",
       "      <th>WS</th>\n",
       "      <th>WS/48</th>\n",
       "      <th>OBPM</th>\n",
       "      <th>DBPM</th>\n",
       "      <th>BPM</th>\n",
       "      <th>VORP</th>\n",
       "    </tr>\n",
       "  </thead>\n",
       "  <tbody>\n",
       "    <tr>\n",
       "      <th>473</th>\n",
       "      <td>473</td>\n",
       "      <td>2015</td>\n",
       "      <td>James Young</td>\n",
       "      <td>G</td>\n",
       "      <td>19</td>\n",
       "      <td>BOS</td>\n",
       "      <td>27</td>\n",
       "      <td>0</td>\n",
       "      <td>10.9</td>\n",
       "      <td>1.1</td>\n",
       "      <td>...</td>\n",
       "      <td>3.9</td>\n",
       "      <td>15.3</td>\n",
       "      <td>0.1</td>\n",
       "      <td>0.2</td>\n",
       "      <td>0.2</td>\n",
       "      <td>0.040</td>\n",
       "      <td>-1.9</td>\n",
       "      <td>-2.2</td>\n",
       "      <td>-4.1</td>\n",
       "      <td>-0.2</td>\n",
       "    </tr>\n",
       "    <tr>\n",
       "      <th>474</th>\n",
       "      <td>474</td>\n",
       "      <td>2015</td>\n",
       "      <td>Nick Young</td>\n",
       "      <td>G</td>\n",
       "      <td>29</td>\n",
       "      <td>LAL</td>\n",
       "      <td>42</td>\n",
       "      <td>0</td>\n",
       "      <td>23.8</td>\n",
       "      <td>4.1</td>\n",
       "      <td>...</td>\n",
       "      <td>7.5</td>\n",
       "      <td>26.0</td>\n",
       "      <td>1.1</td>\n",
       "      <td>0.1</td>\n",
       "      <td>1.2</td>\n",
       "      <td>0.059</td>\n",
       "      <td>1.0</td>\n",
       "      <td>-4.2</td>\n",
       "      <td>-3.2</td>\n",
       "      <td>-0.3</td>\n",
       "    </tr>\n",
       "    <tr>\n",
       "      <th>475</th>\n",
       "      <td>475</td>\n",
       "      <td>2015</td>\n",
       "      <td>Thaddeus Young</td>\n",
       "      <td>F</td>\n",
       "      <td>26</td>\n",
       "      <td>TOT</td>\n",
       "      <td>58</td>\n",
       "      <td>50</td>\n",
       "      <td>31.8</td>\n",
       "      <td>5.9</td>\n",
       "      <td>...</td>\n",
       "      <td>9.7</td>\n",
       "      <td>21.3</td>\n",
       "      <td>1.4</td>\n",
       "      <td>1.1</td>\n",
       "      <td>2.4</td>\n",
       "      <td>0.064</td>\n",
       "      <td>0.4</td>\n",
       "      <td>-0.1</td>\n",
       "      <td>0.3</td>\n",
       "      <td>1.1</td>\n",
       "    </tr>\n",
       "    <tr>\n",
       "      <th>476</th>\n",
       "      <td>476</td>\n",
       "      <td>2015</td>\n",
       "      <td>Cody Zeller</td>\n",
       "      <td>C</td>\n",
       "      <td>22</td>\n",
       "      <td>CHO</td>\n",
       "      <td>61</td>\n",
       "      <td>44</td>\n",
       "      <td>24.1</td>\n",
       "      <td>2.8</td>\n",
       "      <td>...</td>\n",
       "      <td>12.3</td>\n",
       "      <td>15.6</td>\n",
       "      <td>1.7</td>\n",
       "      <td>2.2</td>\n",
       "      <td>3.9</td>\n",
       "      <td>0.129</td>\n",
       "      <td>-1.9</td>\n",
       "      <td>2.5</td>\n",
       "      <td>0.7</td>\n",
       "      <td>1.0</td>\n",
       "    </tr>\n",
       "    <tr>\n",
       "      <th>477</th>\n",
       "      <td>477</td>\n",
       "      <td>2015</td>\n",
       "      <td>Tyler Zeller</td>\n",
       "      <td>C</td>\n",
       "      <td>25</td>\n",
       "      <td>BOS</td>\n",
       "      <td>62</td>\n",
       "      <td>39</td>\n",
       "      <td>20.8</td>\n",
       "      <td>3.9</td>\n",
       "      <td>...</td>\n",
       "      <td>10.5</td>\n",
       "      <td>19.1</td>\n",
       "      <td>3.2</td>\n",
       "      <td>1.3</td>\n",
       "      <td>4.5</td>\n",
       "      <td>0.167</td>\n",
       "      <td>0.2</td>\n",
       "      <td>0.4</td>\n",
       "      <td>0.7</td>\n",
       "      <td>0.9</td>\n",
       "    </tr>\n",
       "  </tbody>\n",
       "</table>\n",
       "<p>5 rows × 50 columns</p>\n",
       "</div>"
      ],
      "text/plain": [
       "     Unnamed: 0  season_end          player pos  age bref_team_id   g  gs  \\\n",
       "473         473        2015     James Young   G   19          BOS  27   0   \n",
       "474         474        2015      Nick Young   G   29          LAL  42   0   \n",
       "475         475        2015  Thaddeus Young   F   26          TOT  58  50   \n",
       "476         476        2015     Cody Zeller   C   22          CHO  61  44   \n",
       "477         477        2015    Tyler Zeller   C   25          BOS  62  39   \n",
       "\n",
       "       mp   fg  ...  TOV%  USG%  OWS  DWS   WS  WS/48  OBPM  DBPM  BPM  VORP  \n",
       "473  10.9  1.1  ...   3.9  15.3  0.1  0.2  0.2  0.040  -1.9  -2.2 -4.1  -0.2  \n",
       "474  23.8  4.1  ...   7.5  26.0  1.1  0.1  1.2  0.059   1.0  -4.2 -3.2  -0.3  \n",
       "475  31.8  5.9  ...   9.7  21.3  1.4  1.1  2.4  0.064   0.4  -0.1  0.3   1.1  \n",
       "476  24.1  2.8  ...  12.3  15.6  1.7  2.2  3.9  0.129  -1.9   2.5  0.7   1.0  \n",
       "477  20.8  3.9  ...  10.5  19.1  3.2  1.3  4.5  0.167   0.2   0.4  0.7   0.9  \n",
       "\n",
       "[5 rows x 50 columns]"
      ]
     },
     "execution_count": 557,
     "metadata": {},
     "output_type": "execute_result"
    }
   ],
   "source": [
    "nba.tail()"
   ]
  },
  {
   "cell_type": "code",
   "execution_count": 558,
   "id": "8b9a4243",
   "metadata": {},
   "outputs": [],
   "source": [
    "nba.drop(columns=['Unnamed: 0', 'bref_team_id'], inplace=True)"
   ]
  },
  {
   "cell_type": "code",
   "execution_count": 559,
   "id": "ba035068",
   "metadata": {},
   "outputs": [
    {
     "data": {
      "text/html": [
       "<div>\n",
       "<style scoped>\n",
       "    .dataframe tbody tr th:only-of-type {\n",
       "        vertical-align: middle;\n",
       "    }\n",
       "\n",
       "    .dataframe tbody tr th {\n",
       "        vertical-align: top;\n",
       "    }\n",
       "\n",
       "    .dataframe thead th {\n",
       "        text-align: right;\n",
       "    }\n",
       "</style>\n",
       "<table border=\"1\" class=\"dataframe\">\n",
       "  <thead>\n",
       "    <tr style=\"text-align: right;\">\n",
       "      <th></th>\n",
       "      <th>season_end</th>\n",
       "      <th>player</th>\n",
       "      <th>pos</th>\n",
       "      <th>age</th>\n",
       "      <th>g</th>\n",
       "      <th>gs</th>\n",
       "      <th>mp</th>\n",
       "      <th>fg</th>\n",
       "      <th>fga</th>\n",
       "      <th>fg_</th>\n",
       "      <th>...</th>\n",
       "      <th>TOV%</th>\n",
       "      <th>USG%</th>\n",
       "      <th>OWS</th>\n",
       "      <th>DWS</th>\n",
       "      <th>WS</th>\n",
       "      <th>WS/48</th>\n",
       "      <th>OBPM</th>\n",
       "      <th>DBPM</th>\n",
       "      <th>BPM</th>\n",
       "      <th>VORP</th>\n",
       "    </tr>\n",
       "  </thead>\n",
       "  <tbody>\n",
       "    <tr>\n",
       "      <th>0</th>\n",
       "      <td>2015</td>\n",
       "      <td>Quincy Acy</td>\n",
       "      <td>F</td>\n",
       "      <td>24</td>\n",
       "      <td>52</td>\n",
       "      <td>21</td>\n",
       "      <td>19.2</td>\n",
       "      <td>2.2</td>\n",
       "      <td>4.6</td>\n",
       "      <td>0.469</td>\n",
       "      <td>...</td>\n",
       "      <td>15.1</td>\n",
       "      <td>14.7</td>\n",
       "      <td>0.6</td>\n",
       "      <td>0.5</td>\n",
       "      <td>1.0</td>\n",
       "      <td>0.05</td>\n",
       "      <td>-2.6</td>\n",
       "      <td>-0.7</td>\n",
       "      <td>-3.4</td>\n",
       "      <td>-0.3</td>\n",
       "    </tr>\n",
       "  </tbody>\n",
       "</table>\n",
       "<p>1 rows × 48 columns</p>\n",
       "</div>"
      ],
      "text/plain": [
       "   season_end      player pos  age   g  gs    mp   fg  fga    fg_  ...  TOV%  \\\n",
       "0        2015  Quincy Acy   F   24  52  21  19.2  2.2  4.6  0.469  ...  15.1   \n",
       "\n",
       "   USG%  OWS  DWS   WS  WS/48  OBPM  DBPM  BPM  VORP  \n",
       "0  14.7  0.6  0.5  1.0   0.05  -2.6  -0.7 -3.4  -0.3  \n",
       "\n",
       "[1 rows x 48 columns]"
      ]
     },
     "execution_count": 559,
     "metadata": {},
     "output_type": "execute_result"
    }
   ],
   "source": [
    "nba.head(1)"
   ]
  },
  {
   "cell_type": "code",
   "execution_count": 560,
   "id": "45355601",
   "metadata": {},
   "outputs": [
    {
     "data": {
      "text/html": [
       "<div>\n",
       "<style scoped>\n",
       "    .dataframe tbody tr th:only-of-type {\n",
       "        vertical-align: middle;\n",
       "    }\n",
       "\n",
       "    .dataframe tbody tr th {\n",
       "        vertical-align: top;\n",
       "    }\n",
       "\n",
       "    .dataframe thead th {\n",
       "        text-align: right;\n",
       "    }\n",
       "</style>\n",
       "<table border=\"1\" class=\"dataframe\">\n",
       "  <thead>\n",
       "    <tr style=\"text-align: right;\">\n",
       "      <th></th>\n",
       "      <th>season_end</th>\n",
       "      <th>player</th>\n",
       "      <th>pos</th>\n",
       "      <th>age</th>\n",
       "      <th>g</th>\n",
       "      <th>gs</th>\n",
       "      <th>mp</th>\n",
       "      <th>fg</th>\n",
       "      <th>fga</th>\n",
       "      <th>fg_</th>\n",
       "      <th>...</th>\n",
       "      <th>TOV%</th>\n",
       "      <th>USG%</th>\n",
       "      <th>OWS</th>\n",
       "      <th>DWS</th>\n",
       "      <th>WS</th>\n",
       "      <th>WS/48</th>\n",
       "      <th>OBPM</th>\n",
       "      <th>DBPM</th>\n",
       "      <th>BPM</th>\n",
       "      <th>VORP</th>\n",
       "    </tr>\n",
       "  </thead>\n",
       "  <tbody>\n",
       "    <tr>\n",
       "      <th>count</th>\n",
       "      <td>478.0</td>\n",
       "      <td>478</td>\n",
       "      <td>478</td>\n",
       "      <td>478.000000</td>\n",
       "      <td>478.000000</td>\n",
       "      <td>478.000000</td>\n",
       "      <td>478.000000</td>\n",
       "      <td>478.000000</td>\n",
       "      <td>478.000000</td>\n",
       "      <td>478.000000</td>\n",
       "      <td>...</td>\n",
       "      <td>478.000000</td>\n",
       "      <td>478.000000</td>\n",
       "      <td>478.000000</td>\n",
       "      <td>478.000000</td>\n",
       "      <td>478.000000</td>\n",
       "      <td>478.000000</td>\n",
       "      <td>478.000000</td>\n",
       "      <td>478.000000</td>\n",
       "      <td>478.000000</td>\n",
       "      <td>478.000000</td>\n",
       "    </tr>\n",
       "    <tr>\n",
       "      <th>unique</th>\n",
       "      <td>NaN</td>\n",
       "      <td>478</td>\n",
       "      <td>3</td>\n",
       "      <td>NaN</td>\n",
       "      <td>NaN</td>\n",
       "      <td>NaN</td>\n",
       "      <td>NaN</td>\n",
       "      <td>NaN</td>\n",
       "      <td>NaN</td>\n",
       "      <td>NaN</td>\n",
       "      <td>...</td>\n",
       "      <td>NaN</td>\n",
       "      <td>NaN</td>\n",
       "      <td>NaN</td>\n",
       "      <td>NaN</td>\n",
       "      <td>NaN</td>\n",
       "      <td>NaN</td>\n",
       "      <td>NaN</td>\n",
       "      <td>NaN</td>\n",
       "      <td>NaN</td>\n",
       "      <td>NaN</td>\n",
       "    </tr>\n",
       "    <tr>\n",
       "      <th>top</th>\n",
       "      <td>NaN</td>\n",
       "      <td>Shabazz Napier</td>\n",
       "      <td>G</td>\n",
       "      <td>NaN</td>\n",
       "      <td>NaN</td>\n",
       "      <td>NaN</td>\n",
       "      <td>NaN</td>\n",
       "      <td>NaN</td>\n",
       "      <td>NaN</td>\n",
       "      <td>NaN</td>\n",
       "      <td>...</td>\n",
       "      <td>NaN</td>\n",
       "      <td>NaN</td>\n",
       "      <td>NaN</td>\n",
       "      <td>NaN</td>\n",
       "      <td>NaN</td>\n",
       "      <td>NaN</td>\n",
       "      <td>NaN</td>\n",
       "      <td>NaN</td>\n",
       "      <td>NaN</td>\n",
       "      <td>NaN</td>\n",
       "    </tr>\n",
       "    <tr>\n",
       "      <th>freq</th>\n",
       "      <td>NaN</td>\n",
       "      <td>1</td>\n",
       "      <td>200</td>\n",
       "      <td>NaN</td>\n",
       "      <td>NaN</td>\n",
       "      <td>NaN</td>\n",
       "      <td>NaN</td>\n",
       "      <td>NaN</td>\n",
       "      <td>NaN</td>\n",
       "      <td>NaN</td>\n",
       "      <td>...</td>\n",
       "      <td>NaN</td>\n",
       "      <td>NaN</td>\n",
       "      <td>NaN</td>\n",
       "      <td>NaN</td>\n",
       "      <td>NaN</td>\n",
       "      <td>NaN</td>\n",
       "      <td>NaN</td>\n",
       "      <td>NaN</td>\n",
       "      <td>NaN</td>\n",
       "      <td>NaN</td>\n",
       "    </tr>\n",
       "    <tr>\n",
       "      <th>mean</th>\n",
       "      <td>2015.0</td>\n",
       "      <td>NaN</td>\n",
       "      <td>NaN</td>\n",
       "      <td>26.573222</td>\n",
       "      <td>42.104603</td>\n",
       "      <td>19.874477</td>\n",
       "      <td>20.045607</td>\n",
       "      <td>3.018201</td>\n",
       "      <td>6.847699</td>\n",
       "      <td>0.429230</td>\n",
       "      <td>...</td>\n",
       "      <td>13.424268</td>\n",
       "      <td>18.915272</td>\n",
       "      <td>1.055858</td>\n",
       "      <td>0.971339</td>\n",
       "      <td>2.027197</td>\n",
       "      <td>0.073575</td>\n",
       "      <td>-1.396862</td>\n",
       "      <td>-0.495816</td>\n",
       "      <td>-1.892678</td>\n",
       "      <td>0.485983</td>\n",
       "    </tr>\n",
       "    <tr>\n",
       "      <th>std</th>\n",
       "      <td>0.0</td>\n",
       "      <td>NaN</td>\n",
       "      <td>NaN</td>\n",
       "      <td>4.219585</td>\n",
       "      <td>18.950602</td>\n",
       "      <td>22.170034</td>\n",
       "      <td>9.313441</td>\n",
       "      <td>2.052790</td>\n",
       "      <td>4.386828</td>\n",
       "      <td>0.111007</td>\n",
       "      <td>...</td>\n",
       "      <td>6.559989</td>\n",
       "      <td>5.493491</td>\n",
       "      <td>1.589667</td>\n",
       "      <td>0.876932</td>\n",
       "      <td>2.243138</td>\n",
       "      <td>0.133530</td>\n",
       "      <td>4.251216</td>\n",
       "      <td>2.299572</td>\n",
       "      <td>5.116001</td>\n",
       "      <td>1.013097</td>\n",
       "    </tr>\n",
       "    <tr>\n",
       "      <th>min</th>\n",
       "      <td>2015.0</td>\n",
       "      <td>NaN</td>\n",
       "      <td>NaN</td>\n",
       "      <td>19.000000</td>\n",
       "      <td>1.000000</td>\n",
       "      <td>0.000000</td>\n",
       "      <td>0.700000</td>\n",
       "      <td>0.000000</td>\n",
       "      <td>0.000000</td>\n",
       "      <td>0.000000</td>\n",
       "      <td>...</td>\n",
       "      <td>0.000000</td>\n",
       "      <td>0.000000</td>\n",
       "      <td>-2.100000</td>\n",
       "      <td>-0.100000</td>\n",
       "      <td>-0.800000</td>\n",
       "      <td>-1.059000</td>\n",
       "      <td>-36.800000</td>\n",
       "      <td>-13.500000</td>\n",
       "      <td>-50.300000</td>\n",
       "      <td>-1.000000</td>\n",
       "    </tr>\n",
       "    <tr>\n",
       "      <th>25%</th>\n",
       "      <td>2015.0</td>\n",
       "      <td>NaN</td>\n",
       "      <td>NaN</td>\n",
       "      <td>23.000000</td>\n",
       "      <td>27.000000</td>\n",
       "      <td>0.000000</td>\n",
       "      <td>12.600000</td>\n",
       "      <td>1.425000</td>\n",
       "      <td>3.400000</td>\n",
       "      <td>0.391000</td>\n",
       "      <td>...</td>\n",
       "      <td>10.000000</td>\n",
       "      <td>14.800000</td>\n",
       "      <td>0.000000</td>\n",
       "      <td>0.200000</td>\n",
       "      <td>0.300000</td>\n",
       "      <td>0.040250</td>\n",
       "      <td>-2.800000</td>\n",
       "      <td>-1.600000</td>\n",
       "      <td>-3.300000</td>\n",
       "      <td>-0.100000</td>\n",
       "    </tr>\n",
       "    <tr>\n",
       "      <th>50%</th>\n",
       "      <td>2015.0</td>\n",
       "      <td>NaN</td>\n",
       "      <td>NaN</td>\n",
       "      <td>26.000000</td>\n",
       "      <td>47.000000</td>\n",
       "      <td>10.500000</td>\n",
       "      <td>19.850000</td>\n",
       "      <td>2.700000</td>\n",
       "      <td>5.900000</td>\n",
       "      <td>0.432000</td>\n",
       "      <td>...</td>\n",
       "      <td>12.900000</td>\n",
       "      <td>18.400000</td>\n",
       "      <td>0.600000</td>\n",
       "      <td>0.800000</td>\n",
       "      <td>1.400000</td>\n",
       "      <td>0.082500</td>\n",
       "      <td>-1.000000</td>\n",
       "      <td>-0.500000</td>\n",
       "      <td>-1.300000</td>\n",
       "      <td>0.100000</td>\n",
       "    </tr>\n",
       "    <tr>\n",
       "      <th>75%</th>\n",
       "      <td>2015.0</td>\n",
       "      <td>NaN</td>\n",
       "      <td>NaN</td>\n",
       "      <td>29.000000</td>\n",
       "      <td>59.000000</td>\n",
       "      <td>39.000000</td>\n",
       "      <td>28.175000</td>\n",
       "      <td>4.275000</td>\n",
       "      <td>9.600000</td>\n",
       "      <td>0.481750</td>\n",
       "      <td>...</td>\n",
       "      <td>15.900000</td>\n",
       "      <td>21.900000</td>\n",
       "      <td>1.600000</td>\n",
       "      <td>1.500000</td>\n",
       "      <td>3.000000</td>\n",
       "      <td>0.123000</td>\n",
       "      <td>0.500000</td>\n",
       "      <td>0.875000</td>\n",
       "      <td>0.500000</td>\n",
       "      <td>0.700000</td>\n",
       "    </tr>\n",
       "    <tr>\n",
       "      <th>max</th>\n",
       "      <td>2015.0</td>\n",
       "      <td>NaN</td>\n",
       "      <td>NaN</td>\n",
       "      <td>38.000000</td>\n",
       "      <td>66.000000</td>\n",
       "      <td>66.000000</td>\n",
       "      <td>38.900000</td>\n",
       "      <td>9.500000</td>\n",
       "      <td>21.400000</td>\n",
       "      <td>1.000000</td>\n",
       "      <td>...</td>\n",
       "      <td>100.000000</td>\n",
       "      <td>45.900000</td>\n",
       "      <td>9.500000</td>\n",
       "      <td>4.300000</td>\n",
       "      <td>13.000000</td>\n",
       "      <td>1.489000</td>\n",
       "      <td>28.300000</td>\n",
       "      <td>6.500000</td>\n",
       "      <td>15.100000</td>\n",
       "      <td>6.200000</td>\n",
       "    </tr>\n",
       "  </tbody>\n",
       "</table>\n",
       "<p>11 rows × 48 columns</p>\n",
       "</div>"
      ],
      "text/plain": [
       "        season_end          player  pos         age           g          gs  \\\n",
       "count        478.0             478  478  478.000000  478.000000  478.000000   \n",
       "unique         NaN             478    3         NaN         NaN         NaN   \n",
       "top            NaN  Shabazz Napier    G         NaN         NaN         NaN   \n",
       "freq           NaN               1  200         NaN         NaN         NaN   \n",
       "mean        2015.0             NaN  NaN   26.573222   42.104603   19.874477   \n",
       "std            0.0             NaN  NaN    4.219585   18.950602   22.170034   \n",
       "min         2015.0             NaN  NaN   19.000000    1.000000    0.000000   \n",
       "25%         2015.0             NaN  NaN   23.000000   27.000000    0.000000   \n",
       "50%         2015.0             NaN  NaN   26.000000   47.000000   10.500000   \n",
       "75%         2015.0             NaN  NaN   29.000000   59.000000   39.000000   \n",
       "max         2015.0             NaN  NaN   38.000000   66.000000   66.000000   \n",
       "\n",
       "                mp          fg         fga         fg_  ...        TOV%  \\\n",
       "count   478.000000  478.000000  478.000000  478.000000  ...  478.000000   \n",
       "unique         NaN         NaN         NaN         NaN  ...         NaN   \n",
       "top            NaN         NaN         NaN         NaN  ...         NaN   \n",
       "freq           NaN         NaN         NaN         NaN  ...         NaN   \n",
       "mean     20.045607    3.018201    6.847699    0.429230  ...   13.424268   \n",
       "std       9.313441    2.052790    4.386828    0.111007  ...    6.559989   \n",
       "min       0.700000    0.000000    0.000000    0.000000  ...    0.000000   \n",
       "25%      12.600000    1.425000    3.400000    0.391000  ...   10.000000   \n",
       "50%      19.850000    2.700000    5.900000    0.432000  ...   12.900000   \n",
       "75%      28.175000    4.275000    9.600000    0.481750  ...   15.900000   \n",
       "max      38.900000    9.500000   21.400000    1.000000  ...  100.000000   \n",
       "\n",
       "              USG%         OWS         DWS          WS       WS/48  \\\n",
       "count   478.000000  478.000000  478.000000  478.000000  478.000000   \n",
       "unique         NaN         NaN         NaN         NaN         NaN   \n",
       "top            NaN         NaN         NaN         NaN         NaN   \n",
       "freq           NaN         NaN         NaN         NaN         NaN   \n",
       "mean     18.915272    1.055858    0.971339    2.027197    0.073575   \n",
       "std       5.493491    1.589667    0.876932    2.243138    0.133530   \n",
       "min       0.000000   -2.100000   -0.100000   -0.800000   -1.059000   \n",
       "25%      14.800000    0.000000    0.200000    0.300000    0.040250   \n",
       "50%      18.400000    0.600000    0.800000    1.400000    0.082500   \n",
       "75%      21.900000    1.600000    1.500000    3.000000    0.123000   \n",
       "max      45.900000    9.500000    4.300000   13.000000    1.489000   \n",
       "\n",
       "              OBPM        DBPM         BPM        VORP  \n",
       "count   478.000000  478.000000  478.000000  478.000000  \n",
       "unique         NaN         NaN         NaN         NaN  \n",
       "top            NaN         NaN         NaN         NaN  \n",
       "freq           NaN         NaN         NaN         NaN  \n",
       "mean     -1.396862   -0.495816   -1.892678    0.485983  \n",
       "std       4.251216    2.299572    5.116001    1.013097  \n",
       "min     -36.800000  -13.500000  -50.300000   -1.000000  \n",
       "25%      -2.800000   -1.600000   -3.300000   -0.100000  \n",
       "50%      -1.000000   -0.500000   -1.300000    0.100000  \n",
       "75%       0.500000    0.875000    0.500000    0.700000  \n",
       "max      28.300000    6.500000   15.100000    6.200000  \n",
       "\n",
       "[11 rows x 48 columns]"
      ]
     },
     "execution_count": 560,
     "metadata": {},
     "output_type": "execute_result"
    }
   ],
   "source": [
    "nba.describe(include='all')"
   ]
  },
  {
   "cell_type": "code",
   "execution_count": 561,
   "id": "db74747d",
   "metadata": {},
   "outputs": [
    {
     "data": {
      "text/plain": [
       "array([2015])"
      ]
     },
     "execution_count": 561,
     "metadata": {},
     "output_type": "execute_result"
    }
   ],
   "source": [
    "nba.season_end.unique()"
   ]
  },
  {
   "cell_type": "code",
   "execution_count": 562,
   "id": "3b2f0bc3",
   "metadata": {},
   "outputs": [
    {
     "data": {
      "text/plain": [
       "(478, 48)"
      ]
     },
     "execution_count": 562,
     "metadata": {},
     "output_type": "execute_result"
    }
   ],
   "source": [
    "nba.shape"
   ]
  },
  {
   "cell_type": "code",
   "execution_count": 563,
   "id": "3a814e89",
   "metadata": {},
   "outputs": [
    {
     "data": {
      "text/plain": [
       "season_end    0\n",
       "player        0\n",
       "pos           0\n",
       "age           0\n",
       "g             0\n",
       "gs            0\n",
       "mp            0\n",
       "fg            0\n",
       "fga           0\n",
       "fg_           0\n",
       "x3p           0\n",
       "x3pa          0\n",
       "x3p_          0\n",
       "x2p           0\n",
       "x2pa          0\n",
       "x2p_          0\n",
       "ft            0\n",
       "fta           0\n",
       "ft_           0\n",
       "orb           0\n",
       "drb           0\n",
       "trb           0\n",
       "ast           0\n",
       "stl           0\n",
       "blk           0\n",
       "tov           0\n",
       "pf            0\n",
       "pts           0\n",
       "G             0\n",
       "MP            0\n",
       "PER           0\n",
       "TS%           0\n",
       "3PAr          0\n",
       "FTr           0\n",
       "TRB%          0\n",
       "AST%          0\n",
       "STL%          0\n",
       "BLK%          0\n",
       "TOV%          0\n",
       "USG%          0\n",
       "OWS           0\n",
       "DWS           0\n",
       "WS            0\n",
       "WS/48         0\n",
       "OBPM          0\n",
       "DBPM          0\n",
       "BPM           0\n",
       "VORP          0\n",
       "dtype: int64"
      ]
     },
     "execution_count": 563,
     "metadata": {},
     "output_type": "execute_result"
    }
   ],
   "source": [
    "nba.isna().sum()"
   ]
  },
  {
   "cell_type": "markdown",
   "id": "872f0848",
   "metadata": {},
   "source": [
    "## Predict position of a player given stats in year 2015"
   ]
  },
  {
   "cell_type": "code",
   "execution_count": 564,
   "id": "05a4dd99",
   "metadata": {},
   "outputs": [],
   "source": [
    "# use KNN to build the classifier"
   ]
  },
  {
   "cell_type": "code",
   "execution_count": 565,
   "id": "c6cf10cd",
   "metadata": {},
   "outputs": [
    {
     "data": {
      "text/plain": [
       "array(['F', 'G', 'C'], dtype=object)"
      ]
     },
     "execution_count": 565,
     "metadata": {},
     "output_type": "execute_result"
    }
   ],
   "source": [
    "# unique positions a player can occupy\n",
    "\n",
    "nba.pos.unique()"
   ]
  },
  {
   "cell_type": "code",
   "execution_count": 566,
   "id": "d25e91c2",
   "metadata": {},
   "outputs": [
    {
     "data": {
      "text/plain": [
       "G    200\n",
       "F    199\n",
       "C     79\n",
       "Name: pos, dtype: int64"
      ]
     },
     "execution_count": 566,
     "metadata": {},
     "output_type": "execute_result"
    }
   ],
   "source": [
    "# number of players who have played at a given position\n",
    "\n",
    "nba.pos.value_counts()"
   ]
  },
  {
   "cell_type": "markdown",
   "id": "9dea2eaf",
   "metadata": {},
   "source": [
    "gaurds and forwards are most common type of player designation with both being equally distributed at about 200 players each. Center are less than 17% of the league"
   ]
  },
  {
   "cell_type": "code",
   "execution_count": 567,
   "id": "1455841b",
   "metadata": {},
   "outputs": [],
   "source": [
    "# define the X and y \n",
    "\n",
    "X = nba.iloc[:,3:]\n",
    "y = nba.pos\n",
    "\n",
    "# split train test\n",
    "\n",
    "X_train, X_test, y_train, y_test = train_test_split(X, y, test_size = 0.3, shuffle = 'true', random_state=42 )"
   ]
  },
  {
   "cell_type": "code",
   "execution_count": 568,
   "id": "9b6152c0",
   "metadata": {},
   "outputs": [],
   "source": [
    "# build a basic KNN model\n",
    "\n",
    "# instantiate a model\n",
    "KNN = KNeighborsClassifier(n_neighbors= 3, weights = 'distance' )\n",
    "\n",
    "# fit a model\n",
    "\n",
    "KNN.fit(X_train, y_train)\n",
    "\n",
    "# make a prediction\n",
    "\n",
    "pred = KNN.predict(X_test)\n"
   ]
  },
  {
   "cell_type": "code",
   "execution_count": 569,
   "id": "6e76eb36",
   "metadata": {},
   "outputs": [
    {
     "data": {
      "text/plain": [
       "0.5069444444444444"
      ]
     },
     "execution_count": 569,
     "metadata": {},
     "output_type": "execute_result"
    }
   ],
   "source": [
    "# compare predictions to true value\n",
    "\n",
    "sum(pred==y_test)/y_test.count()"
   ]
  },
  {
   "cell_type": "markdown",
   "id": "073c4eb2",
   "metadata": {},
   "source": [
    "This is our baseline performance, basically a 50:50 outcome now the quesiton is can we do better. We will do the following:\n",
    "\n",
    "1- use one-hot encoding or mapping on the position labels\n",
    "\n",
    "2- use data visualization to determine which features are useful and which ones to discard either because they show little correlation or they are multi-collinear\\\n",
    "\n",
    "3- scale the input parameters\n",
    "\n",
    "4- using gridsearch optimize the KNN parameters to improve model performance. \n",
    "\n",
    "5- use confusion matrix to evaluate the baseline and tunned model"
   ]
  },
  {
   "cell_type": "code",
   "execution_count": 570,
   "id": "58234da0",
   "metadata": {},
   "outputs": [],
   "source": [
    "nba['pos_num'] = nba.pos.map({'F':0, 'G':1, 'C':2}, )\n"
   ]
  },
  {
   "cell_type": "code",
   "execution_count": 571,
   "id": "ede2e68f",
   "metadata": {},
   "outputs": [
    {
     "data": {
      "text/plain": [
       "1    200\n",
       "0    199\n",
       "2     79\n",
       "Name: pos_num, dtype: int64"
      ]
     },
     "execution_count": 571,
     "metadata": {},
     "output_type": "execute_result"
    }
   ],
   "source": [
    "nba.pos_num.value_counts()"
   ]
  },
  {
   "cell_type": "code",
   "execution_count": 572,
   "id": "82f3a5a8",
   "metadata": {},
   "outputs": [
    {
     "data": {
      "text/plain": [
       "(478, 49)"
      ]
     },
     "execution_count": 572,
     "metadata": {},
     "output_type": "execute_result"
    }
   ],
   "source": [
    "nba.shape"
   ]
  },
  {
   "cell_type": "code",
   "execution_count": 573,
   "id": "700ca930",
   "metadata": {},
   "outputs": [
    {
     "data": {
      "image/png": "[encoded data removed]",
      "text/plain": [
       "<Figure size 1728x1728 with 2 Axes>"
      ]
     },
     "metadata": {},
     "output_type": "display_data"
    }
   ],
   "source": [
    "# visualize correlations \n",
    "plt.figure(figsize=(24,24))\n",
    "sns.set(font_scale = 2)\n",
    "sns.heatmap(nba.corr());"
   ]
  },
  {
   "cell_type": "code",
   "execution_count": 574,
   "id": "b5f2820b",
   "metadata": {},
   "outputs": [
    {
     "data": {
      "text/plain": [
       "Index(['season_end', 'player', 'pos', 'age', 'g', 'gs', 'mp', 'fg', 'fga',\n",
       "       'fg_', 'x3p', 'x3pa', 'x3p_', 'x2p', 'x2pa', 'x2p_', 'ft', 'fta', 'ft_',\n",
       "       'orb', 'drb', 'trb', 'ast', 'stl', 'blk', 'tov', 'pf', 'pts', 'G', 'MP',\n",
       "       'PER', 'TS%', '3PAr', 'FTr', 'TRB%', 'AST%', 'STL%', 'BLK%', 'TOV%',\n",
       "       'USG%', 'OWS', 'DWS', 'WS', 'WS/48', 'OBPM', 'DBPM', 'BPM', 'VORP',\n",
       "       'pos_num'],\n",
       "      dtype='object')"
      ]
     },
     "execution_count": 574,
     "metadata": {},
     "output_type": "execute_result"
    }
   ],
   "source": [
    "nba.columns"
   ]
  },
  {
   "cell_type": "markdown",
   "id": "333907c3",
   "metadata": {},
   "source": [
    "fg and fga are correlated//\n",
    "xp and xp3a//\n",
    "x2p and x2pa//\n",
    "drb and trb//"
   ]
  },
  {
   "cell_type": "code",
   "execution_count": 575,
   "id": "2c7dc0cc",
   "metadata": {},
   "outputs": [
    {
     "data": {
      "text/html": [
       "<div>\n",
       "<style scoped>\n",
       "    .dataframe tbody tr th:only-of-type {\n",
       "        vertical-align: middle;\n",
       "    }\n",
       "\n",
       "    .dataframe tbody tr th {\n",
       "        vertical-align: top;\n",
       "    }\n",
       "\n",
       "    .dataframe thead th {\n",
       "        text-align: right;\n",
       "    }\n",
       "</style>\n",
       "<table border=\"1\" class=\"dataframe\">\n",
       "  <thead>\n",
       "    <tr style=\"text-align: right;\">\n",
       "      <th></th>\n",
       "      <th>season_end</th>\n",
       "      <th>player</th>\n",
       "      <th>pos</th>\n",
       "      <th>age</th>\n",
       "      <th>g</th>\n",
       "      <th>gs</th>\n",
       "      <th>mp</th>\n",
       "      <th>fg</th>\n",
       "      <th>fg_</th>\n",
       "      <th>x3p</th>\n",
       "      <th>...</th>\n",
       "      <th>USG%</th>\n",
       "      <th>OWS</th>\n",
       "      <th>DWS</th>\n",
       "      <th>WS</th>\n",
       "      <th>WS/48</th>\n",
       "      <th>OBPM</th>\n",
       "      <th>DBPM</th>\n",
       "      <th>BPM</th>\n",
       "      <th>VORP</th>\n",
       "      <th>pos_num</th>\n",
       "    </tr>\n",
       "  </thead>\n",
       "  <tbody>\n",
       "    <tr>\n",
       "      <th>0</th>\n",
       "      <td>2015</td>\n",
       "      <td>Quincy Acy</td>\n",
       "      <td>F</td>\n",
       "      <td>24</td>\n",
       "      <td>52</td>\n",
       "      <td>21</td>\n",
       "      <td>19.2</td>\n",
       "      <td>2.2</td>\n",
       "      <td>0.469</td>\n",
       "      <td>0.2</td>\n",
       "      <td>...</td>\n",
       "      <td>14.7</td>\n",
       "      <td>0.6</td>\n",
       "      <td>0.5</td>\n",
       "      <td>1.0</td>\n",
       "      <td>0.050</td>\n",
       "      <td>-2.6</td>\n",
       "      <td>-0.7</td>\n",
       "      <td>-3.4</td>\n",
       "      <td>-0.3</td>\n",
       "      <td>0</td>\n",
       "    </tr>\n",
       "    <tr>\n",
       "      <th>1</th>\n",
       "      <td>2015</td>\n",
       "      <td>Jordan Adams</td>\n",
       "      <td>G</td>\n",
       "      <td>20</td>\n",
       "      <td>18</td>\n",
       "      <td>0</td>\n",
       "      <td>7.3</td>\n",
       "      <td>1.0</td>\n",
       "      <td>0.474</td>\n",
       "      <td>0.3</td>\n",
       "      <td>...</td>\n",
       "      <td>17.7</td>\n",
       "      <td>0.0</td>\n",
       "      <td>0.2</td>\n",
       "      <td>0.2</td>\n",
       "      <td>0.076</td>\n",
       "      <td>-2.3</td>\n",
       "      <td>1.8</td>\n",
       "      <td>-0.5</td>\n",
       "      <td>0.0</td>\n",
       "      <td>1</td>\n",
       "    </tr>\n",
       "    <tr>\n",
       "      <th>2</th>\n",
       "      <td>2015</td>\n",
       "      <td>Steven Adams</td>\n",
       "      <td>C</td>\n",
       "      <td>21</td>\n",
       "      <td>51</td>\n",
       "      <td>50</td>\n",
       "      <td>24.2</td>\n",
       "      <td>3.0</td>\n",
       "      <td>0.550</td>\n",
       "      <td>0.0</td>\n",
       "      <td>...</td>\n",
       "      <td>14.8</td>\n",
       "      <td>1.0</td>\n",
       "      <td>1.8</td>\n",
       "      <td>2.8</td>\n",
       "      <td>0.109</td>\n",
       "      <td>-2.0</td>\n",
       "      <td>2.0</td>\n",
       "      <td>-0.1</td>\n",
       "      <td>0.6</td>\n",
       "      <td>2</td>\n",
       "    </tr>\n",
       "    <tr>\n",
       "      <th>3</th>\n",
       "      <td>2015</td>\n",
       "      <td>Jeff Adrien</td>\n",
       "      <td>F</td>\n",
       "      <td>28</td>\n",
       "      <td>17</td>\n",
       "      <td>0</td>\n",
       "      <td>12.6</td>\n",
       "      <td>1.1</td>\n",
       "      <td>0.432</td>\n",
       "      <td>0.0</td>\n",
       "      <td>...</td>\n",
       "      <td>14.1</td>\n",
       "      <td>0.2</td>\n",
       "      <td>0.2</td>\n",
       "      <td>0.4</td>\n",
       "      <td>0.093</td>\n",
       "      <td>-2.6</td>\n",
       "      <td>0.8</td>\n",
       "      <td>-1.8</td>\n",
       "      <td>0.0</td>\n",
       "      <td>0</td>\n",
       "    </tr>\n",
       "    <tr>\n",
       "      <th>4</th>\n",
       "      <td>2015</td>\n",
       "      <td>Arron Afflalo</td>\n",
       "      <td>G</td>\n",
       "      <td>29</td>\n",
       "      <td>60</td>\n",
       "      <td>54</td>\n",
       "      <td>32.5</td>\n",
       "      <td>5.0</td>\n",
       "      <td>0.426</td>\n",
       "      <td>1.5</td>\n",
       "      <td>...</td>\n",
       "      <td>19.6</td>\n",
       "      <td>1.4</td>\n",
       "      <td>0.7</td>\n",
       "      <td>2.1</td>\n",
       "      <td>0.051</td>\n",
       "      <td>-0.2</td>\n",
       "      <td>-1.4</td>\n",
       "      <td>-1.6</td>\n",
       "      <td>0.2</td>\n",
       "      <td>1</td>\n",
       "    </tr>\n",
       "    <tr>\n",
       "      <th>...</th>\n",
       "      <td>...</td>\n",
       "      <td>...</td>\n",
       "      <td>...</td>\n",
       "      <td>...</td>\n",
       "      <td>...</td>\n",
       "      <td>...</td>\n",
       "      <td>...</td>\n",
       "      <td>...</td>\n",
       "      <td>...</td>\n",
       "      <td>...</td>\n",
       "      <td>...</td>\n",
       "      <td>...</td>\n",
       "      <td>...</td>\n",
       "      <td>...</td>\n",
       "      <td>...</td>\n",
       "      <td>...</td>\n",
       "      <td>...</td>\n",
       "      <td>...</td>\n",
       "      <td>...</td>\n",
       "      <td>...</td>\n",
       "      <td>...</td>\n",
       "    </tr>\n",
       "    <tr>\n",
       "      <th>473</th>\n",
       "      <td>2015</td>\n",
       "      <td>James Young</td>\n",
       "      <td>G</td>\n",
       "      <td>19</td>\n",
       "      <td>27</td>\n",
       "      <td>0</td>\n",
       "      <td>10.9</td>\n",
       "      <td>1.1</td>\n",
       "      <td>0.348</td>\n",
       "      <td>0.6</td>\n",
       "      <td>...</td>\n",
       "      <td>15.3</td>\n",
       "      <td>0.1</td>\n",
       "      <td>0.2</td>\n",
       "      <td>0.2</td>\n",
       "      <td>0.040</td>\n",
       "      <td>-1.9</td>\n",
       "      <td>-2.2</td>\n",
       "      <td>-4.1</td>\n",
       "      <td>-0.2</td>\n",
       "      <td>1</td>\n",
       "    </tr>\n",
       "    <tr>\n",
       "      <th>474</th>\n",
       "      <td>2015</td>\n",
       "      <td>Nick Young</td>\n",
       "      <td>G</td>\n",
       "      <td>29</td>\n",
       "      <td>42</td>\n",
       "      <td>0</td>\n",
       "      <td>23.8</td>\n",
       "      <td>4.1</td>\n",
       "      <td>0.366</td>\n",
       "      <td>2.0</td>\n",
       "      <td>...</td>\n",
       "      <td>26.0</td>\n",
       "      <td>1.1</td>\n",
       "      <td>0.1</td>\n",
       "      <td>1.2</td>\n",
       "      <td>0.059</td>\n",
       "      <td>1.0</td>\n",
       "      <td>-4.2</td>\n",
       "      <td>-3.2</td>\n",
       "      <td>-0.3</td>\n",
       "      <td>1</td>\n",
       "    </tr>\n",
       "    <tr>\n",
       "      <th>475</th>\n",
       "      <td>2015</td>\n",
       "      <td>Thaddeus Young</td>\n",
       "      <td>F</td>\n",
       "      <td>26</td>\n",
       "      <td>58</td>\n",
       "      <td>50</td>\n",
       "      <td>31.8</td>\n",
       "      <td>5.9</td>\n",
       "      <td>0.460</td>\n",
       "      <td>0.5</td>\n",
       "      <td>...</td>\n",
       "      <td>21.3</td>\n",
       "      <td>1.4</td>\n",
       "      <td>1.1</td>\n",
       "      <td>2.4</td>\n",
       "      <td>0.064</td>\n",
       "      <td>0.4</td>\n",
       "      <td>-0.1</td>\n",
       "      <td>0.3</td>\n",
       "      <td>1.1</td>\n",
       "      <td>0</td>\n",
       "    </tr>\n",
       "    <tr>\n",
       "      <th>476</th>\n",
       "      <td>2015</td>\n",
       "      <td>Cody Zeller</td>\n",
       "      <td>C</td>\n",
       "      <td>22</td>\n",
       "      <td>61</td>\n",
       "      <td>44</td>\n",
       "      <td>24.1</td>\n",
       "      <td>2.8</td>\n",
       "      <td>0.465</td>\n",
       "      <td>0.0</td>\n",
       "      <td>...</td>\n",
       "      <td>15.6</td>\n",
       "      <td>1.7</td>\n",
       "      <td>2.2</td>\n",
       "      <td>3.9</td>\n",
       "      <td>0.129</td>\n",
       "      <td>-1.9</td>\n",
       "      <td>2.5</td>\n",
       "      <td>0.7</td>\n",
       "      <td>1.0</td>\n",
       "      <td>2</td>\n",
       "    </tr>\n",
       "    <tr>\n",
       "      <th>477</th>\n",
       "      <td>2015</td>\n",
       "      <td>Tyler Zeller</td>\n",
       "      <td>C</td>\n",
       "      <td>25</td>\n",
       "      <td>62</td>\n",
       "      <td>39</td>\n",
       "      <td>20.8</td>\n",
       "      <td>3.9</td>\n",
       "      <td>0.541</td>\n",
       "      <td>0.0</td>\n",
       "      <td>...</td>\n",
       "      <td>19.1</td>\n",
       "      <td>3.2</td>\n",
       "      <td>1.3</td>\n",
       "      <td>4.5</td>\n",
       "      <td>0.167</td>\n",
       "      <td>0.2</td>\n",
       "      <td>0.4</td>\n",
       "      <td>0.7</td>\n",
       "      <td>0.9</td>\n",
       "      <td>2</td>\n",
       "    </tr>\n",
       "  </tbody>\n",
       "</table>\n",
       "<p>478 rows × 45 columns</p>\n",
       "</div>"
      ],
      "text/plain": [
       "     season_end          player pos  age   g  gs    mp   fg    fg_  x3p  ...  \\\n",
       "0          2015      Quincy Acy   F   24  52  21  19.2  2.2  0.469  0.2  ...   \n",
       "1          2015    Jordan Adams   G   20  18   0   7.3  1.0  0.474  0.3  ...   \n",
       "2          2015    Steven Adams   C   21  51  50  24.2  3.0  0.550  0.0  ...   \n",
       "3          2015     Jeff Adrien   F   28  17   0  12.6  1.1  0.432  0.0  ...   \n",
       "4          2015   Arron Afflalo   G   29  60  54  32.5  5.0  0.426  1.5  ...   \n",
       "..          ...             ...  ..  ...  ..  ..   ...  ...    ...  ...  ...   \n",
       "473        2015     James Young   G   19  27   0  10.9  1.1  0.348  0.6  ...   \n",
       "474        2015      Nick Young   G   29  42   0  23.8  4.1  0.366  2.0  ...   \n",
       "475        2015  Thaddeus Young   F   26  58  50  31.8  5.9  0.460  0.5  ...   \n",
       "476        2015     Cody Zeller   C   22  61  44  24.1  2.8  0.465  0.0  ...   \n",
       "477        2015    Tyler Zeller   C   25  62  39  20.8  3.9  0.541  0.0  ...   \n",
       "\n",
       "     USG%  OWS  DWS   WS  WS/48  OBPM  DBPM  BPM  VORP  pos_num  \n",
       "0    14.7  0.6  0.5  1.0  0.050  -2.6  -0.7 -3.4  -0.3        0  \n",
       "1    17.7  0.0  0.2  0.2  0.076  -2.3   1.8 -0.5   0.0        1  \n",
       "2    14.8  1.0  1.8  2.8  0.109  -2.0   2.0 -0.1   0.6        2  \n",
       "3    14.1  0.2  0.2  0.4  0.093  -2.6   0.8 -1.8   0.0        0  \n",
       "4    19.6  1.4  0.7  2.1  0.051  -0.2  -1.4 -1.6   0.2        1  \n",
       "..    ...  ...  ...  ...    ...   ...   ...  ...   ...      ...  \n",
       "473  15.3  0.1  0.2  0.2  0.040  -1.9  -2.2 -4.1  -0.2        1  \n",
       "474  26.0  1.1  0.1  1.2  0.059   1.0  -4.2 -3.2  -0.3        1  \n",
       "475  21.3  1.4  1.1  2.4  0.064   0.4  -0.1  0.3   1.1        0  \n",
       "476  15.6  1.7  2.2  3.9  0.129  -1.9   2.5  0.7   1.0        2  \n",
       "477  19.1  3.2  1.3  4.5  0.167   0.2   0.4  0.7   0.9        2  \n",
       "\n",
       "[478 rows x 45 columns]"
      ]
     },
     "execution_count": 575,
     "metadata": {},
     "output_type": "execute_result"
    }
   ],
   "source": [
    "nba.drop(columns=['fga','x3pa','x2pa', 'trb' ])"
   ]
  },
  {
   "cell_type": "markdown",
   "id": "941f513f",
   "metadata": {},
   "source": [
    "after removing some of the collinear columns\n"
   ]
  },
  {
   "cell_type": "code",
   "execution_count": 576,
   "id": "505eaed2",
   "metadata": {},
   "outputs": [],
   "source": [
    "X = nba.iloc[:,3:40]\n",
    "y = nba['pos']"
   ]
  },
  {
   "cell_type": "code",
   "execution_count": 577,
   "id": "aacfe721",
   "metadata": {},
   "outputs": [],
   "source": [
    "X_train, X_test, y_train, y_test = train_test_split(X, y, random_state=42, test_size=0.3)"
   ]
  },
  {
   "cell_type": "code",
   "execution_count": 578,
   "id": "300ee6c2",
   "metadata": {},
   "outputs": [],
   "source": [
    "# build a basic KNN model\n",
    "\n",
    "# instantiate a model\n",
    "KNN = KNeighborsClassifier(n_neighbors = 3, weights='distance')\n",
    "# fit a model\n",
    "KNN.fit(X_train, y_train)\n",
    "\n",
    "# make a prediction\n",
    "\n",
    "pred = KNN.predict(X_test)"
   ]
  },
  {
   "cell_type": "code",
   "execution_count": 579,
   "id": "ec63acc4",
   "metadata": {},
   "outputs": [
    {
     "data": {
      "text/plain": [
       "0.5208333333333334"
      ]
     },
     "execution_count": 579,
     "metadata": {},
     "output_type": "execute_result"
    }
   ],
   "source": [
    "sum(pred==y_test)/y_test.count()"
   ]
  },
  {
   "cell_type": "code",
   "execution_count": 580,
   "id": "97c76c5a",
   "metadata": {},
   "outputs": [],
   "source": [
    "## dropping a couple of columns didn't have any impact "
   ]
  },
  {
   "cell_type": "code",
   "execution_count": 581,
   "id": "2bf8baeb",
   "metadata": {},
   "outputs": [
    {
     "data": {
      "text/plain": [
       "'use gridsearch to optimize knn hyperparameter; use pipeline to preprocess data i.e. use StandardScaler'"
      ]
     },
     "execution_count": 581,
     "metadata": {},
     "output_type": "execute_result"
    }
   ],
   "source": [
    "'''use gridsearch to optimize knn hyperparameter; use pipeline to preprocess data i.e. use StandardScaler'''"
   ]
  },
  {
   "cell_type": "code",
   "execution_count": 582,
   "id": "84dd9e82",
   "metadata": {
    "scrolled": true
   },
   "outputs": [
    {
     "data": {
      "text/plain": [
       "GridSearchCV(cv=5,\n",
       "             estimator=Pipeline(steps=[('standardscaler', StandardScaler()),\n",
       "                                       ('kneighborsclassifier',\n",
       "                                        KNeighborsClassifier())]),\n",
       "             param_grid={'kneighborsclassifier__n_neighbors': array([ 1,  2,  3,  4,  5,  6,  7,  8,  9, 10, 11, 12, 13, 14, 15, 16, 17,\n",
       "       18, 19, 20, 21, 22, 23, 24, 25, 26, 27, 28, 29, 30, 31, 32, 33, 34,\n",
       "       35, 36, 37, 38, 39, 40, 41, 42, 43, 44, 45, 46, 47, 48, 49, 50, 51,\n",
       "       52, 53, 54, 55, 56, 57, 58, 59, 60, 61, 62, 63, 64, 65, 66, 67, 68,\n",
       "       69, 70, 71, 72, 73, 74, 75, 76, 77, 78, 79, 80, 81, 82, 83, 84, 85,\n",
       "       86, 87, 88, 89, 90, 91, 92, 93, 94, 95, 96, 97, 98, 99]),\n",
       "                         'kneighborsclassifier__weights': ['uniform',\n",
       "                                                           'distance']},\n",
       "             scoring='accuracy')"
      ]
     },
     "execution_count": 582,
     "metadata": {},
     "output_type": "execute_result"
    }
   ],
   "source": [
    "#define the pipeline\n",
    "pipe = make_pipeline(StandardScaler(), KNeighborsClassifier())\n",
    "\n",
    "#define the search range for hyperparameters that go into the gridsearch\n",
    "n_neighbor_range = np.arange(1,100)\n",
    "weight_range = ['uniform', 'distance']\n",
    "\n",
    "#setup the grid\n",
    "param_grid = dict(kneighborsclassifier__n_neighbors = n_neighbor_range, \n",
    "                  kneighborsclassifier__weights = weight_range)\n",
    "\n",
    "#gridsearch\n",
    "\n",
    "grid = GridSearchCV(pipe, param_grid, scoring = 'accuracy', cv = 5   ) \n",
    "\n",
    "\n",
    "# fit \n",
    "\n",
    "grid.fit(X, y)"
   ]
  },
  {
   "cell_type": "code",
   "execution_count": 583,
   "id": "10a6dd88",
   "metadata": {},
   "outputs": [
    {
     "name": "stdout",
     "output_type": "stream",
     "text": [
      "0.7405921052631579\n",
      "{'kneighborsclassifier__n_neighbors': 43, 'kneighborsclassifier__weights': 'distance'}\n"
     ]
    }
   ],
   "source": [
    "print(grid.best_score_)\n",
    "print(grid.best_params_)"
   ]
  },
  {
   "cell_type": "code",
   "execution_count": 584,
   "id": "7244a552",
   "metadata": {},
   "outputs": [],
   "source": [
    "#iterate over number of columns included in the model and see if the accuracy improves\n",
    "from itertools import combinations\n",
    "\n",
    "\n",
    "cols = ['age', 'g', 'gs', 'mp', 'fg', \n",
    "        'x3p', 'x2p',  'ft', \n",
    "       'orb', 'drb', 'trb', 'ast', 'stl', 'blk', 'tov']\n",
    "\n"
   ]
  },
  {
   "cell_type": "code",
   "execution_count": 585,
   "id": "3ca25bda",
   "metadata": {},
   "outputs": [],
   "source": [
    "\n",
    "combination = list(combinations(cols, 13))"
   ]
  },
  {
   "cell_type": "code",
   "execution_count": 586,
   "id": "d2450bd1",
   "metadata": {},
   "outputs": [],
   "source": [
    "output = []\n",
    "for i in combination:\n",
    "    X = nba[list(i)]\n",
    "#     print(X)\n",
    "    y = nba['pos']\n",
    "    pipe = make_pipeline(StandardScaler(), KNeighborsClassifier())\n",
    "    #define the search range for hyperparameters that go into the gridsearch\n",
    "    n_neighbor_range = np.arange(3,5)\n",
    "    weight_range = ['uniform', 'distance']\n",
    "    #setup the dist\n",
    "    param_dist = dict(kneighborsclassifier__n_neighbors = n_neighbor_range, \n",
    "                  kneighborsclassifier__weights = weight_range)\n",
    "    #gridsearch\n",
    "    rand = RandomizedSearchCV(pipe, param_grid, scoring = 'accuracy',cv = 5   ) \n",
    "    # fit \n",
    "    rand.fit(X, y)\n",
    "    output.append([i, rand.best_params_, rand.best_score_])\n",
    "    \n",
    "    \n"
   ]
  },
  {
   "cell_type": "code",
   "execution_count": 587,
   "id": "35ba14d5",
   "metadata": {},
   "outputs": [
    {
     "data": {
      "text/plain": [
       "i         (age, g, mp, fg, x2p, ft, orb, drb, trb, ast, ...\n",
       "params    {'kneighborsclassifier__weights': 'distance', ...\n",
       "scores                                             0.742632\n",
       "Name: 75, dtype: object"
      ]
     },
     "execution_count": 587,
     "metadata": {},
     "output_type": "execute_result"
    }
   ],
   "source": [
    "df = pd.DataFrame(output, columns=['i', 'params', 'scores']); \n",
    "df.loc[df.scores.idxmax()]\n"
   ]
  },
  {
   "cell_type": "code",
   "execution_count": 588,
   "id": "3d9e0cf1",
   "metadata": {},
   "outputs": [
    {
     "data": {
      "text/plain": [
       "0.7110177527151212"
      ]
     },
     "execution_count": 588,
     "metadata": {},
     "output_type": "execute_result"
    }
   ],
   "source": [
    "df.scores.mean()"
   ]
  },
  {
   "cell_type": "code",
   "execution_count": 589,
   "id": "77e05f9b",
   "metadata": {},
   "outputs": [
    {
     "data": {
      "text/plain": [
       "0.6693421052631578"
      ]
     },
     "execution_count": 589,
     "metadata": {},
     "output_type": "execute_result"
    }
   ],
   "source": [
    "df.scores.min()"
   ]
  },
  {
   "cell_type": "code",
   "execution_count": 590,
   "id": "d23a9819",
   "metadata": {},
   "outputs": [
    {
     "data": {
      "text/plain": [
       "('age',\n",
       " 'g',\n",
       " 'gs',\n",
       " 'fg',\n",
       " 'x3p',\n",
       " 'ft',\n",
       " 'orb',\n",
       " 'drb',\n",
       " 'trb',\n",
       " 'ast',\n",
       " 'stl',\n",
       " 'blk',\n",
       " 'tov')"
      ]
     },
     "execution_count": 590,
     "metadata": {},
     "output_type": "execute_result"
    }
   ],
   "source": [
    "df.loc[63, 'i']"
   ]
  },
  {
   "cell_type": "code",
   "execution_count": 591,
   "id": "07152cfc",
   "metadata": {},
   "outputs": [
    {
     "data": {
      "text/plain": [
       "{'kneighborsclassifier__weights': 'distance',\n",
       " 'kneighborsclassifier__n_neighbors': 41}"
      ]
     },
     "execution_count": 591,
     "metadata": {},
     "output_type": "execute_result"
    }
   ],
   "source": [
    "df.loc[63,'params']"
   ]
  },
  {
   "cell_type": "code",
   "execution_count": 592,
   "id": "16de8967",
   "metadata": {},
   "outputs": [
    {
     "data": {
      "text/plain": [
       "{'kneighborsclassifier__weights': 'uniform',\n",
       " 'kneighborsclassifier__n_neighbors': 24}"
      ]
     },
     "execution_count": 592,
     "metadata": {},
     "output_type": "execute_result"
    }
   ],
   "source": [
    "df.loc[df.scores.idxmin(), 'params']"
   ]
  },
  {
   "cell_type": "markdown",
   "id": "772ccca1",
   "metadata": {},
   "source": [
    "KNN=41 is distance weighting is overall the\"best\" though the average score is 70% with lowest being 67% so really the improvement in the model performance comes from the added features not the tunning. Tunning basically gets you an addition 7% pt improvement\n"
   ]
  },
  {
   "cell_type": "code",
   "execution_count": 605,
   "id": "324f5fe0",
   "metadata": {},
   "outputs": [],
   "source": [
    "### the best model\n",
    "X = nba[list(i)]\n",
    "\n",
    "X_train, X_test, y_train,y_test = train_test_split(X,y, random_state=42)\n",
    "\n",
    "#instantiate the model\n",
    "model = KNeighborsClassifier(n_neighbors = 41, weights = 'distance')\n",
    "\n",
    "# fit the model to the training dataset\n",
    "\n",
    "model.fit(X_train, y_train)\n",
    "\n",
    "# predict with the data\n",
    "\n",
    "y_pred = model.predict(X_test)\n",
    "\n",
    "\n",
    "y_pred_proba = model.predict_proba(X_test)\n"
   ]
  },
  {
   "cell_type": "code",
   "execution_count": 606,
   "id": "7c8faa62",
   "metadata": {
    "scrolled": true
   },
   "outputs": [
    {
     "name": "stdout",
     "output_type": "stream",
     "text": [
      "accuracy score is 0.65\n",
      "weighted recall is 0.65\n",
      "f1_score is 0.65\n"
     ]
    }
   ],
   "source": [
    "### evaluate the metrics accuracy, recall, f1 and confusion matrix\n",
    "\n",
    "\n",
    "#accuracy score\n",
    "print('accuracy score is %s' %metrics.accuracy_score(y_test, y_pred))\n",
    "\n",
    "#recall\n",
    "print('weighted recall is %s'%metrics.recall_score(y_test, y_pred, average='weighted'))\n",
    "\n",
    "#f1\n",
    "print('f1_score is %s'%metrics.f1_score(y_test, y_pred,average='micro'))\n",
    "\n",
    "#confusion matrix\n",
    "# metrics.confusion_matrix(y_test,y_pred)\n",
    "# print('TN:{} | FP:{} | FN:{} | TP:{}'.format(tn, fp, fn, tp))"
   ]
  },
  {
   "cell_type": "markdown",
   "id": "ff3a5264",
   "metadata": {},
   "source": [
    "for a simple KNN model deployed on multilabel classification problem a factor of four over baseline is a pretty good outcome though obviously it can be improved by using other models and more input dimensions\n"
   ]
  },
  {
   "cell_type": "code",
   "execution_count": null,
   "id": "63001193",
   "metadata": {},
   "outputs": [],
   "source": [
    "\n"
   ]
  },
  {
   "cell_type": "code",
   "execution_count": null,
   "id": "10e803ec",
   "metadata": {},
   "outputs": [],
   "source": []
  }
 ],
 "metadata": {
  "kernelspec": {
   "display_name": "Python 3",
   "language": "python",
   "name": "python3"
  },
  "language_info": {
   "codemirror_mode": {
    "name": "ipython",
    "version": 3
   },
   "file_extension": ".py",
   "mimetype": "text/x-python",
   "name": "python",
   "nbconvert_exporter": "python",
   "pygments_lexer": "ipython3",
   "version": "3.7.7"
  }
 },
 "nbformat": 4,
 "nbformat_minor": 5
}
